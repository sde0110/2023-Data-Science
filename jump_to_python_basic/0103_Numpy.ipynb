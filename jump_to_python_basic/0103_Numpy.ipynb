{
 "cells": [
  {
   "cell_type": "code",
   "execution_count": 1,
   "id": "d028170b",
   "metadata": {},
   "outputs": [],
   "source": [
    "import numpy as np"
   ]
  },
  {
   "cell_type": "code",
   "execution_count": 3,
   "id": "ead90609",
   "metadata": {},
   "outputs": [
    {
     "name": "stdout",
     "output_type": "stream",
     "text": [
      "[1 2 3]\n"
     ]
    }
   ],
   "source": [
    "np_arr1 = np.array([1,2,3])\n",
    "print(np_arr1) #list, numpy array 차이점 = 요소의 구분자"
   ]
  },
  {
   "cell_type": "code",
   "execution_count": 4,
   "id": "bd49fe62",
   "metadata": {},
   "outputs": [
    {
     "name": "stdout",
     "output_type": "stream",
     "text": [
      "['1' '2' '0' '3']\n"
     ]
    }
   ],
   "source": [
    "np_arr2 = np.array([1,2,0,'3']) #string으로 자동 변환\n",
    "print(np_arr2)"
   ]
  },
  {
   "cell_type": "code",
   "execution_count": 10,
   "id": "9bc1bd00",
   "metadata": {},
   "outputs": [
    {
     "name": "stdout",
     "output_type": "stream",
     "text": [
      "[1. 2. 3.]\n"
     ]
    }
   ],
   "source": [
    "np_arr3 = np.array([1,2.0,'3'],float) #fleat 타입으로 강제 지정\n",
    "print(np_arr3)"
   ]
  },
  {
   "cell_type": "code",
   "execution_count": 11,
   "id": "baeb122c",
   "metadata": {},
   "outputs": [],
   "source": [
    "# dtpye = 자료형 확인"
   ]
  },
  {
   "cell_type": "code",
   "execution_count": 14,
   "id": "11b52ed9",
   "metadata": {},
   "outputs": [
    {
     "data": {
      "text/plain": [
       "(3,)"
      ]
     },
     "execution_count": 14,
     "metadata": {},
     "output_type": "execute_result"
    }
   ],
   "source": [
    "#np_arr.shape : 넘파이 형태 확인\n",
    "np_arr1.shape"
   ]
  },
  {
   "cell_type": "code",
   "execution_count": 15,
   "id": "4150187f",
   "metadata": {},
   "outputs": [
    {
     "name": "stdout",
     "output_type": "stream",
     "text": [
      "[[[1 2 3]\n",
      "  [4 5 6]]\n",
      "\n",
      " [[1 2 3]\n",
      "  [4 5 6]]\n",
      "\n",
      " [[1 2 3]\n",
      "  [4 5 6]]\n",
      "\n",
      " [[1 2 3]\n",
      "  [4 5 6]]]\n"
     ]
    }
   ],
   "source": [
    "tensor = np.array([\n",
    "    [[1,2,3],[4,5,6]],\n",
    "    [[1,2,3],[4,5,6]],\n",
    "    [[1,2,3],[4,5,6]],\n",
    "    [[1,2,3],[4,5,6]],  \n",
    "])\n",
    "print(tensor) #tensor (3차원 데이터)"
   ]
  },
  {
   "cell_type": "code",
   "execution_count": 16,
   "id": "19cf85d2",
   "metadata": {},
   "outputs": [
    {
     "name": "stdout",
     "output_type": "stream",
     "text": [
      "[[1 2 3 4]\n",
      " [5 6 7 8]]\n"
     ]
    }
   ],
   "source": [
    "np_arr4 = np.array([[1,2,3,4],[5,6,7,8]]) #shape이 같은경우 , 배열로 만들어진다.\n",
    "print(np_arr4)"
   ]
  },
  {
   "cell_type": "code",
   "execution_count": 17,
   "id": "bf993eec",
   "metadata": {},
   "outputs": [
    {
     "name": "stdout",
     "output_type": "stream",
     "text": [
      "[list([1, 2, 3]) list([5, 6, 7, 8])]\n"
     ]
    },
    {
     "name": "stderr",
     "output_type": "stream",
     "text": [
      "/var/folders/g0/7n9481cx3xx1dj4nqkh7r1980000gn/T/ipykernel_30846/4166766109.py:1: VisibleDeprecationWarning: Creating an ndarray from ragged nested sequences (which is a list-or-tuple of lists-or-tuples-or ndarrays with different lengths or shapes) is deprecated. If you meant to do this, you must specify 'dtype=object' when creating the ndarray.\n",
      "  np_arr4 = np.array([[1,2,3],[5,6,7,8]]) #shape이 다른경우 , 배열로 만들어지지 않는다.\n"
     ]
    }
   ],
   "source": [
    "np_arr4 = np.array([[1,2,3],[5,6,7,8]]) #shape이 다른경우 , 배열로 만들어지지 않는다.\n",
    "print(np_arr4)"
   ]
  },
  {
   "cell_type": "code",
   "execution_count": 24,
   "id": "ada7834b",
   "metadata": {},
   "outputs": [
    {
     "data": {
      "text/plain": [
       "3"
      ]
     },
     "execution_count": 24,
     "metadata": {},
     "output_type": "execute_result"
    }
   ],
   "source": [
    "#ndim = 차원확인\n",
    "print(np_arr4.ndim)\n",
    "print(tensor.ndim)"
   ]
  },
  {
   "cell_type": "code",
   "execution_count": 27,
   "id": "2d62eb2e",
   "metadata": {},
   "outputs": [
    {
     "name": "stdout",
     "output_type": "stream",
     "text": [
      "4\n"
     ]
    }
   ],
   "source": [
    "print(np_arr2.size) # 요소 개수 확인"
   ]
  },
  {
   "cell_type": "code",
   "execution_count": 29,
   "id": "04fbd631",
   "metadata": {},
   "outputs": [
    {
     "data": {
      "text/plain": [
       "dtype('int64')"
      ]
     },
     "execution_count": 29,
     "metadata": {},
     "output_type": "execute_result"
    }
   ],
   "source": [
    "np.array([[1,2,3],[4,5,6]],dtype=int).dtype"
   ]
  },
  {
   "cell_type": "code",
   "execution_count": 30,
   "id": "482e0a91",
   "metadata": {},
   "outputs": [
    {
     "data": {
      "text/plain": [
       "dtype('int8')"
      ]
     },
     "execution_count": 30,
     "metadata": {},
     "output_type": "execute_result"
    }
   ],
   "source": [
    "np.array([[1,2,3],[4,5,6]],dtype=np.int8).dtype #data type 확인"
   ]
  },
  {
   "cell_type": "code",
   "execution_count": 32,
   "id": "7b13281a",
   "metadata": {},
   "outputs": [
    {
     "data": {
      "text/plain": [
       "48"
      ]
     },
     "execution_count": 32,
     "metadata": {},
     "output_type": "execute_result"
    }
   ],
   "source": [
    "np.array([[1,2,3],[4,5,6]],dtype=int).nbytes #byte확인"
   ]
  },
  {
   "cell_type": "code",
   "execution_count": 37,
   "id": "97c5c841",
   "metadata": {},
   "outputs": [
    {
     "ename": "NameError",
     "evalue": "name 'array' is not defined",
     "output_type": "error",
     "traceback": [
      "\u001b[0;31m---------------------------------------------------------------------------\u001b[0m",
      "\u001b[0;31mNameError\u001b[0m                                 Traceback (most recent call last)",
      "Cell \u001b[0;32mIn[37], line 2\u001b[0m\n\u001b[1;32m      1\u001b[0m \u001b[38;5;66;03m#다차원 배열인 경우엔 대괄호 대신 콤마도 사용 가능\u001b[39;00m\n\u001b[0;32m----> 2\u001b[0m \u001b[43marray\u001b[49m[row,col]\n",
      "\u001b[0;31mNameError\u001b[0m: name 'array' is not defined"
     ]
    }
   ],
   "source": [
    "#다차원 배열인 경우엔 대괄호 대신 콤마도 사용 가능\n",
    "array[row,col]"
   ]
  },
  {
   "cell_type": "code",
   "execution_count": 39,
   "id": "3a32ba41",
   "metadata": {},
   "outputs": [],
   "source": [
    "tensor2 = np.array([\n",
    "    [ [1,2,3],[4,5,6]],\n",
    "    [ [11,12,13],[14,15,16]],\n",
    "    [ [21,22,23],[24,25,26]],\n",
    "    [ [31,32,33],[34,35,36]]\n",
    "])"
   ]
  },
  {
   "cell_type": "code",
   "execution_count": 40,
   "id": "bee98515",
   "metadata": {},
   "outputs": [
    {
     "data": {
      "text/plain": [
       "6"
      ]
     },
     "execution_count": 40,
     "metadata": {},
     "output_type": "execute_result"
    }
   ],
   "source": [
    "tensor2[0,1,2]"
   ]
  },
  {
   "cell_type": "code",
   "execution_count": 41,
   "id": "6c55fe3a",
   "metadata": {},
   "outputs": [
    {
     "data": {
      "text/plain": [
       "13"
      ]
     },
     "execution_count": 41,
     "metadata": {},
     "output_type": "execute_result"
    }
   ],
   "source": [
    "tensor2[1,0,2]"
   ]
  },
  {
   "cell_type": "code",
   "execution_count": 42,
   "id": "a689679d",
   "metadata": {},
   "outputs": [
    {
     "data": {
      "text/plain": [
       "25"
      ]
     },
     "execution_count": 42,
     "metadata": {},
     "output_type": "execute_result"
    }
   ],
   "source": [
    "tensor2[2,1,1]"
   ]
  },
  {
   "cell_type": "code",
   "execution_count": 43,
   "id": "ff27bcfd",
   "metadata": {},
   "outputs": [
    {
     "data": {
      "text/plain": [
       "31"
      ]
     },
     "execution_count": 43,
     "metadata": {},
     "output_type": "execute_result"
    }
   ],
   "source": [
    "tensor2[3,0,0]"
   ]
  },
  {
   "cell_type": "code",
   "execution_count": 44,
   "id": "ce4bc7fd",
   "metadata": {},
   "outputs": [
    {
     "data": {
      "text/plain": [
       "array([1, 2, 3, 4, 5])"
      ]
     },
     "execution_count": 44,
     "metadata": {},
     "output_type": "execute_result"
    }
   ],
   "source": [
    "arr = np.array([1,2,3,4,5])\n",
    "arr"
   ]
  },
  {
   "cell_type": "code",
   "execution_count": 45,
   "id": "b2b89a62",
   "metadata": {},
   "outputs": [
    {
     "data": {
      "text/plain": [
       "array([1, 3, 4])"
      ]
     },
     "execution_count": 45,
     "metadata": {},
     "output_type": "execute_result"
    }
   ],
   "source": [
    "idx = [True, False, True, True, False] #인덱싱 방법1\n",
    "arr[idx]"
   ]
  },
  {
   "cell_type": "code",
   "execution_count": 46,
   "id": "42499ff7",
   "metadata": {},
   "outputs": [
    {
     "data": {
      "text/plain": [
       "array([1, 3, 4])"
      ]
     },
     "execution_count": 46,
     "metadata": {},
     "output_type": "execute_result"
    }
   ],
   "source": [
    "idx = [0,2,3] #인덱싱 방법2\n",
    "arr[idx]"
   ]
  },
  {
   "cell_type": "code",
   "execution_count": 48,
   "id": "c3359f4c",
   "metadata": {},
   "outputs": [
    {
     "name": "stdout",
     "output_type": "stream",
     "text": [
      "[False  True False  True False]\n",
      "[2 4]\n"
     ]
    }
   ],
   "source": [
    "# <연산식 사용1>\n",
    "print(arr % 2 == 0)\n",
    "print(arr[arr %2==0])"
   ]
  },
  {
   "cell_type": "code",
   "execution_count": 50,
   "id": "c60fa458",
   "metadata": {},
   "outputs": [
    {
     "name": "stdout",
     "output_type": "stream",
     "text": [
      "[1 3 0 1 2]\n"
     ]
    },
    {
     "ename": "ValueError",
     "evalue": "The truth value of an array with more than one element is ambiguous. Use a.any() or a.all()",
     "output_type": "error",
     "traceback": [
      "\u001b[0;31m---------------------------------------------------------------------------\u001b[0m",
      "\u001b[0;31mValueError\u001b[0m                                Traceback (most recent call last)",
      "Cell \u001b[0;32mIn[50], line 3\u001b[0m\n\u001b[1;32m      1\u001b[0m \u001b[38;5;66;03m# <연산식 사용2>\u001b[39;00m\n\u001b[1;32m      2\u001b[0m \u001b[38;5;28mprint\u001b[39m((arr\u001b[38;5;241m%\u001b[39m\u001b[38;5;241m2\u001b[39m\u001b[38;5;241m==\u001b[39m\u001b[38;5;241m0\u001b[39m)\u001b[38;5;241m|\u001b[39m(arr\u001b[38;5;241m%\u001b[39m\u001b[38;5;241m3\u001b[39m))\n\u001b[0;32m----> 3\u001b[0m \u001b[38;5;28mprint\u001b[39m[(arr\u001b[38;5;241m%\u001b[39m\u001b[38;5;241m2\u001b[39m\u001b[38;5;241m==\u001b[39m\u001b[38;5;241m0\u001b[39m\u001b[38;5;241m|\u001b[39marr\u001b[38;5;241m==\u001b[39m\u001b[38;5;241m3\u001b[39m)]\n",
      "\u001b[0;31mValueError\u001b[0m: The truth value of an array with more than one element is ambiguous. Use a.any() or a.all()"
     ]
    }
   ],
   "source": [
    "# <연산식 사용2>\n",
    "print((arr%2==0)|(arr%3))\n",
    "print[(arr%2==0|arr==3)]"
   ]
  },
  {
   "cell_type": "code",
   "execution_count": 52,
   "id": "58470300",
   "metadata": {},
   "outputs": [
    {
     "name": "stdout",
     "output_type": "stream",
     "text": [
      "[ 3 13 23 33]\n",
      "[[[14 15]]\n",
      "\n",
      " [[24 25]]\n",
      "\n",
      " [[34 35]]]\n"
     ]
    }
   ],
   "source": [
    "# 슬라이싱\n",
    "print(tensor2[:,0,-1]) # : 는 랭크를 모두 가져와라\n",
    "print(tensor2[1:,-1:,:-1])"
   ]
  },
  {
   "cell_type": "code",
   "execution_count": 53,
   "id": "3144d6e0",
   "metadata": {},
   "outputs": [],
   "source": [
    "# 자주 쓰는 np배열생성함수 !\n",
    "# reshape , arange(range랑 같은 것) , flatten , random.randn(랜덤array) , ones, zeros"
   ]
  },
  {
   "cell_type": "code",
   "execution_count": 55,
   "id": "973cc509",
   "metadata": {},
   "outputs": [],
   "source": [
    "matrix = [[1,2,3],[4,5,6]]"
   ]
  },
  {
   "cell_type": "code",
   "execution_count": 56,
   "id": "a7bb174f",
   "metadata": {},
   "outputs": [
    {
     "data": {
      "text/plain": [
       "array([[1, 2],\n",
       "       [3, 4],\n",
       "       [5, 6]])"
      ]
     },
     "execution_count": 56,
     "metadata": {},
     "output_type": "execute_result"
    }
   ],
   "source": [
    "np.array(matrix).reshape(3,2)"
   ]
  },
  {
   "cell_type": "code",
   "execution_count": 57,
   "id": "17343e67",
   "metadata": {},
   "outputs": [
    {
     "data": {
      "text/plain": [
       "array([[1],\n",
       "       [2],\n",
       "       [3],\n",
       "       [4],\n",
       "       [5],\n",
       "       [6]])"
      ]
     },
     "execution_count": 57,
     "metadata": {},
     "output_type": "execute_result"
    }
   ],
   "source": [
    "np.array(matrix).reshape(6,1)"
   ]
  },
  {
   "cell_type": "code",
   "execution_count": 58,
   "id": "e993c01e",
   "metadata": {},
   "outputs": [
    {
     "data": {
      "text/plain": [
       "array([[1, 2, 3, 4, 5, 6]])"
      ]
     },
     "execution_count": 58,
     "metadata": {},
     "output_type": "execute_result"
    }
   ],
   "source": [
    "np.array(matrix).reshape(1,6)"
   ]
  },
  {
   "cell_type": "code",
   "execution_count": 60,
   "id": "887c769c",
   "metadata": {},
   "outputs": [
    {
     "data": {
      "text/plain": [
       "array([[1, 2],\n",
       "       [3, 4],\n",
       "       [5, 6]])"
      ]
     },
     "execution_count": 60,
     "metadata": {},
     "output_type": "execute_result"
    }
   ],
   "source": [
    "np.array(matrix).reshape(3,1,2)\n",
    "np.array(matrix).reshape(-1,2)"
   ]
  },
  {
   "cell_type": "code",
   "execution_count": 61,
   "id": "5ce7a278",
   "metadata": {},
   "outputs": [
    {
     "data": {
      "text/plain": [
       "array([1, 2, 3, 4, 5, 6])"
      ]
     },
     "execution_count": 61,
     "metadata": {},
     "output_type": "execute_result"
    }
   ],
   "source": [
    "np.array(matrix).flatten()"
   ]
  },
  {
   "cell_type": "code",
   "execution_count": 62,
   "id": "8af12db5",
   "metadata": {},
   "outputs": [
    {
     "data": {
      "text/plain": [
       "array([1, 2, 3, 4, 5, 6])"
      ]
     },
     "execution_count": 62,
     "metadata": {},
     "output_type": "execute_result"
    }
   ],
   "source": [
    "np.array(matrix).reshape(-1,2).flatten()"
   ]
  },
  {
   "cell_type": "code",
   "execution_count": 63,
   "id": "da1040d5",
   "metadata": {},
   "outputs": [
    {
     "data": {
      "text/plain": [
       "array([1, 2, 3, 4, 5, 6])"
      ]
     },
     "execution_count": 63,
     "metadata": {},
     "output_type": "execute_result"
    }
   ],
   "source": [
    "np.array(matrix).reshape(3,1,2).flatten()"
   ]
  },
  {
   "cell_type": "code",
   "execution_count": 65,
   "id": "addade6c",
   "metadata": {},
   "outputs": [
    {
     "data": {
      "text/plain": [
       "array([ 0,  1,  2,  3,  4,  5,  6,  7,  8,  9, 10, 11, 12, 13, 14, 15, 16,\n",
       "       17, 18, 19, 20, 21, 22, 23, 24, 25, 26, 27, 28, 29])"
      ]
     },
     "execution_count": 65,
     "metadata": {},
     "output_type": "execute_result"
    }
   ],
   "source": [
    "np.arange(30)"
   ]
  },
  {
   "cell_type": "code",
   "execution_count": 83,
   "id": "bac97d75",
   "metadata": {},
   "outputs": [
    {
     "name": "stdout",
     "output_type": "stream",
     "text": [
      "[0 2 4 6 8]\n",
      "[0.  0.2 0.4 0.6 0.8 1.  1.2 1.4 1.6 1.8]\n"
     ]
    }
   ],
   "source": [
    "np.set_printoptions(precision=2)\n",
    "print(np.arange(0,10,2)) #시작, 끝, 간격\n",
    "print(np.arange(0,2,0.2))"
   ]
  },
  {
   "cell_type": "code",
   "execution_count": 76,
   "id": "f494a52f",
   "metadata": {},
   "outputs": [
    {
     "data": {
      "text/plain": [
       "array([[ 1,  2,  3,  4,  5],\n",
       "       [ 6,  7,  8,  9, 10],\n",
       "       [11, 12, 13, 14, 15],\n",
       "       [16, 17, 18, 19, 20],\n",
       "       [21, 22, 23, 24, 25]])"
      ]
     },
     "execution_count": 76,
     "metadata": {},
     "output_type": "execute_result"
    }
   ],
   "source": [
    "np.arange(1,26).reshape(5,5)"
   ]
  },
  {
   "cell_type": "code",
   "execution_count": 78,
   "id": "e4071b3d",
   "metadata": {},
   "outputs": [
    {
     "data": {
      "text/plain": [
       "array([[[ 1,  2,  3,  4,  5],\n",
       "        [ 6,  7,  8,  9, 10]],\n",
       "\n",
       "       [[11, 12, 13, 14, 15],\n",
       "        [16, 17, 18, 19, 20]],\n",
       "\n",
       "       [[21, 22, 23, 24, 25],\n",
       "        [26, 27, 28, 29, 30]]])"
      ]
     },
     "execution_count": 78,
     "metadata": {},
     "output_type": "execute_result"
    }
   ],
   "source": [
    "np.arange(1,31).reshape(3,2,5)"
   ]
  },
  {
   "cell_type": "code",
   "execution_count": 79,
   "id": "6fd2a525",
   "metadata": {},
   "outputs": [
    {
     "data": {
      "text/plain": [
       "array([ 0.9, -1.6,  0.2,  1.7])"
      ]
     },
     "execution_count": 79,
     "metadata": {},
     "output_type": "execute_result"
    }
   ],
   "source": [
    "np.random.randn(4)"
   ]
  },
  {
   "cell_type": "code",
   "execution_count": 81,
   "id": "23b555fd",
   "metadata": {},
   "outputs": [
    {
     "data": {
      "text/plain": [
       "array([[-0.4,  1.4, -0.5],\n",
       "       [ 0.6,  1.2,  0.3]])"
      ]
     },
     "execution_count": 81,
     "metadata": {},
     "output_type": "execute_result"
    }
   ],
   "source": [
    "np.random.randn(2,3)"
   ]
  },
  {
   "cell_type": "code",
   "execution_count": 85,
   "id": "ad53e3ba",
   "metadata": {},
   "outputs": [
    {
     "data": {
      "text/plain": [
       "21"
      ]
     },
     "execution_count": 85,
     "metadata": {},
     "output_type": "execute_result"
    }
   ],
   "source": [
    "matrix = np.arange(1,7).reshape(2,3)\n",
    "matrix.sum()"
   ]
  },
  {
   "cell_type": "code",
   "execution_count": 86,
   "id": "8775a424",
   "metadata": {},
   "outputs": [
    {
     "data": {
      "text/plain": [
       "array([5, 7, 9])"
      ]
     },
     "execution_count": 86,
     "metadata": {},
     "output_type": "execute_result"
    }
   ],
   "source": [
    "matrix.sum(axis=0) #행의 합 구하기"
   ]
  },
  {
   "cell_type": "code",
   "execution_count": 87,
   "id": "65816c72",
   "metadata": {},
   "outputs": [
    {
     "data": {
      "text/plain": [
       "array([ 6, 15])"
      ]
     },
     "execution_count": 87,
     "metadata": {},
     "output_type": "execute_result"
    }
   ],
   "source": [
    "matrix.sum(axis=1) #열의 합 구하기"
   ]
  },
  {
   "cell_type": "code",
   "execution_count": 88,
   "id": "4a9f63f0",
   "metadata": {},
   "outputs": [],
   "source": [
    "#tensor는 axis를 0,1,2로 구한다."
   ]
  },
  {
   "cell_type": "code",
   "execution_count": 90,
   "id": "c06191f9",
   "metadata": {},
   "outputs": [],
   "source": [
    "# shape이 다른 배열 간 연산 가능\n",
    "scalar = 10\n",
    "tensor = np.array(\n",
    "[\n",
    "    [\n",
    "        [1,2,3],[4,5,6]\n",
    "    ],\n",
    "    [\n",
    "        [7,8,9],[10,11,12]\n",
    "    ],\n",
    "    [\n",
    "        [13,14,15],[16,17,18]\n",
    "    ]\n",
    "])"
   ]
  },
  {
   "cell_type": "code",
   "execution_count": 92,
   "id": "0f898500",
   "metadata": {},
   "outputs": [
    {
     "data": {
      "text/plain": [
       "array([[[11, 12, 13],\n",
       "        [14, 15, 16]],\n",
       "\n",
       "       [[17, 18, 19],\n",
       "        [20, 21, 22]],\n",
       "\n",
       "       [[23, 24, 25],\n",
       "        [26, 27, 28]]])"
      ]
     },
     "execution_count": 92,
     "metadata": {},
     "output_type": "execute_result"
    }
   ],
   "source": [
    "scalar + tensor"
   ]
  },
  {
   "cell_type": "code",
   "execution_count": null,
   "id": "60cdbc19",
   "metadata": {},
   "outputs": [],
   "source": [
    "matrix = np.array([[1,2,3],[4,5,6],[7,8,9]])"
   ]
  }
 ],
 "metadata": {
  "kernelspec": {
   "display_name": "Python 3 (ipykernel)",
   "language": "python",
   "name": "python3"
  },
  "language_info": {
   "codemirror_mode": {
    "name": "ipython",
    "version": 3
   },
   "file_extension": ".py",
   "mimetype": "text/x-python",
   "name": "python",
   "nbconvert_exporter": "python",
   "pygments_lexer": "ipython3",
   "version": "3.9.15"
  }
 },
 "nbformat": 4,
 "nbformat_minor": 5
}
