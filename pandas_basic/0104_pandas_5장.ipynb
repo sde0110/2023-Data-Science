{
 "cells": [
  {
   "cell_type": "markdown",
   "id": "5c2392be",
   "metadata": {},
   "source": [
    "# 데이터 사전처리"
   ]
  },
  {
   "cell_type": "markdown",
   "id": "75f9ed6b",
   "metadata": {},
   "source": [
    "## - 누락 데이터 처리"
   ]
  },
  {
   "cell_type": "code",
   "execution_count": null,
   "id": "4e7f7ac1",
   "metadata": {},
   "outputs": [],
   "source": []
  }
 ],
 "metadata": {
  "kernelspec": {
   "display_name": "Python 3 (ipykernel)",
   "language": "python",
   "name": "python3"
  },
  "language_info": {
   "codemirror_mode": {
    "name": "ipython",
    "version": 3
   },
   "file_extension": ".py",
   "mimetype": "text/x-python",
   "name": "python",
   "nbconvert_exporter": "python",
   "pygments_lexer": "ipython3",
   "version": "3.9.15"
  }
 },
 "nbformat": 4,
 "nbformat_minor": 5
}
